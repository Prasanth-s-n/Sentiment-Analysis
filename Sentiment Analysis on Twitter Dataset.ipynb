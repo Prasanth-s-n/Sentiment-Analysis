{
 "cells": [
  {
   "cell_type": "markdown",
   "id": "584761fe",
   "metadata": {},
   "source": [
    "Dataset Used: https://www.kaggle.com/datasets/cosmos98/twitter-and-reddit-sentimental-analysis-dataset?select=Twitter_Data.csv"
   ]
  },
  {
   "cell_type": "code",
   "execution_count": 1,
   "id": "eb3459e1",
   "metadata": {},
   "outputs": [],
   "source": [
    "#Importing the required libraries\n",
    "import numpy as np\n",
    "import matplotlib.pyplot as plt\n",
    "import seaborn as sns\n",
    "import pandas as pd\n",
    "from nltk.corpus import stopwords\n",
    "from xgboost import XGBClassifier\n",
    "import nltk\n",
    "from nltk.corpus import stopwords\n",
    "import re\n",
    "import emoji\n",
    "import warnings\n",
    "warnings.filterwarnings(\"ignore\")\n",
    "from tqdm import tqdm\n",
    "tqdm.pandas()\n",
    "import time as t\n",
    "from sklearn.model_selection import train_test_split, GridSearchCV\n",
    "from sklearn.feature_extraction.text import TfidfVectorizer\n",
    "from sklearn.metrics import classification_report\n",
    "import pickle"
   ]
  },
  {
   "cell_type": "code",
   "execution_count": 2,
   "id": "7fed01ec",
   "metadata": {},
   "outputs": [],
   "source": [
    "#Preprocessing the text\n",
    "def preprocessing(text):\n",
    "    text = text.lower()#converting text to lowercase\n",
    "    text = emoji.demojize(text,delimiters=(\" \",\" \"))#converting emojis to words\n",
    "    text = re.sub(r'@\\S+', '', text)#removing user tags\n",
    "    text = re.sub(r'http\\S+', '', text)#removing website links (starting with http or https)\n",
    "    text = re.sub(r'www\\S+', '', text)#removing website links (starting with www.)\n",
    "    text = re.sub(r'#\\S+', '', text)#removing hashtags\n",
    "    text = re.sub(\"[^a-zA-Z]\", \" \",text)#removing everything except english alphabets\n",
    "    text = \" \".join([i for i in text.split() if i not in stopwords.words(\"english\")])#removing the stopwords\n",
    "    return text"
   ]
  },
  {
   "cell_type": "code",
   "execution_count": 3,
   "id": "7f1b4431",
   "metadata": {},
   "outputs": [],
   "source": [
    "twitter_data = pd.read_csv(\"Twitter_Data.csv\")#Reading the dataset"
   ]
  },
  {
   "cell_type": "code",
   "execution_count": 4,
   "id": "dc324060",
   "metadata": {},
   "outputs": [
    {
     "name": "stdout",
     "output_type": "stream",
     "text": [
      "Total Number of Documents in Original Dataset: 162980\n"
     ]
    }
   ],
   "source": [
    "print(\"Total Number of Documents in Original Dataset:\",len(twitter_data))"
   ]
  },
  {
   "cell_type": "code",
   "execution_count": 5,
   "id": "e2019f93",
   "metadata": {},
   "outputs": [
    {
     "data": {
      "text/html": [
       "<div>\n",
       "<style scoped>\n",
       "    .dataframe tbody tr th:only-of-type {\n",
       "        vertical-align: middle;\n",
       "    }\n",
       "\n",
       "    .dataframe tbody tr th {\n",
       "        vertical-align: top;\n",
       "    }\n",
       "\n",
       "    .dataframe thead th {\n",
       "        text-align: right;\n",
       "    }\n",
       "</style>\n",
       "<table border=\"1\" class=\"dataframe\">\n",
       "  <thead>\n",
       "    <tr style=\"text-align: right;\">\n",
       "      <th></th>\n",
       "      <th>clean_text</th>\n",
       "      <th>category</th>\n",
       "    </tr>\n",
       "  </thead>\n",
       "  <tbody>\n",
       "    <tr>\n",
       "      <th>0</th>\n",
       "      <td>when modi promised “minimum government maximum...</td>\n",
       "      <td>-1.0</td>\n",
       "    </tr>\n",
       "    <tr>\n",
       "      <th>1</th>\n",
       "      <td>talk all the nonsense and continue all the dra...</td>\n",
       "      <td>0.0</td>\n",
       "    </tr>\n",
       "    <tr>\n",
       "      <th>2</th>\n",
       "      <td>what did just say vote for modi  welcome bjp t...</td>\n",
       "      <td>1.0</td>\n",
       "    </tr>\n",
       "    <tr>\n",
       "      <th>3</th>\n",
       "      <td>asking his supporters prefix chowkidar their n...</td>\n",
       "      <td>1.0</td>\n",
       "    </tr>\n",
       "    <tr>\n",
       "      <th>4</th>\n",
       "      <td>answer who among these the most powerful world...</td>\n",
       "      <td>1.0</td>\n",
       "    </tr>\n",
       "    <tr>\n",
       "      <th>5</th>\n",
       "      <td>kiya tho refresh maarkefir comment karo</td>\n",
       "      <td>0.0</td>\n",
       "    </tr>\n",
       "    <tr>\n",
       "      <th>6</th>\n",
       "      <td>surat women perform yagna seeks divine grace f...</td>\n",
       "      <td>0.0</td>\n",
       "    </tr>\n",
       "    <tr>\n",
       "      <th>7</th>\n",
       "      <td>this comes from cabinet which has scholars lik...</td>\n",
       "      <td>0.0</td>\n",
       "    </tr>\n",
       "    <tr>\n",
       "      <th>8</th>\n",
       "      <td>with upcoming election india saga going import...</td>\n",
       "      <td>1.0</td>\n",
       "    </tr>\n",
       "    <tr>\n",
       "      <th>9</th>\n",
       "      <td>gandhi was gay does modi</td>\n",
       "      <td>1.0</td>\n",
       "    </tr>\n",
       "  </tbody>\n",
       "</table>\n",
       "</div>"
      ],
      "text/plain": [
       "                                          clean_text  category\n",
       "0  when modi promised “minimum government maximum...      -1.0\n",
       "1  talk all the nonsense and continue all the dra...       0.0\n",
       "2  what did just say vote for modi  welcome bjp t...       1.0\n",
       "3  asking his supporters prefix chowkidar their n...       1.0\n",
       "4  answer who among these the most powerful world...       1.0\n",
       "5           kiya tho refresh maarkefir comment karo        0.0\n",
       "6  surat women perform yagna seeks divine grace f...       0.0\n",
       "7  this comes from cabinet which has scholars lik...       0.0\n",
       "8  with upcoming election india saga going import...       1.0\n",
       "9                         gandhi was gay does modi         1.0"
      ]
     },
     "execution_count": 5,
     "metadata": {},
     "output_type": "execute_result"
    }
   ],
   "source": [
    "#first 10 rows of the dataset\n",
    "twitter_data.head(10)"
   ]
  },
  {
   "cell_type": "code",
   "execution_count": 6,
   "id": "01f4399e",
   "metadata": {},
   "outputs": [
    {
     "data": {
      "text/plain": [
       "clean_text    4\n",
       "category      7\n",
       "dtype: int64"
      ]
     },
     "execution_count": 6,
     "metadata": {},
     "output_type": "execute_result"
    }
   ],
   "source": [
    "#checking for null values\n",
    "twitter_data.isna().sum()"
   ]
  },
  {
   "cell_type": "code",
   "execution_count": 7,
   "id": "a4de847d",
   "metadata": {},
   "outputs": [],
   "source": [
    "#removing all the rows containing null value\n",
    "twitter_data_new = twitter_data.dropna()"
   ]
  },
  {
   "cell_type": "code",
   "execution_count": 8,
   "id": "415e5137",
   "metadata": {},
   "outputs": [
    {
     "name": "stdout",
     "output_type": "stream",
     "text": [
      "Total Number of Documents: 162969\n"
     ]
    }
   ],
   "source": [
    "print(\"Total Number of Documents:\",len(twitter_data_new))"
   ]
  },
  {
   "cell_type": "code",
   "execution_count": 9,
   "id": "98f4dca8",
   "metadata": {},
   "outputs": [
    {
     "name": "stderr",
     "output_type": "stream",
     "text": [
      "100%|█████████████████████████████████████████████████████████████████████████| 162969/162969 [09:54<00:00, 274.09it/s]\n"
     ]
    }
   ],
   "source": [
    "#preprocessing the text data and since the values in category contain negative, we add 1 to all the values \n",
    "twitter_data_new[\"clean_text\"] = twitter_data_new[\"clean_text\"].progress_apply(preprocessing)\n",
    "twitter_data_new[\"category\"]+=1"
   ]
  },
  {
   "cell_type": "code",
   "execution_count": 10,
   "id": "db11b5aa",
   "metadata": {},
   "outputs": [
    {
     "data": {
      "text/plain": [
       "(array([35509., 55211., 72249.]),\n",
       " array([0, 1, 2, 3]),\n",
       " <BarContainer object of 3 artists>)"
      ]
     },
     "execution_count": 10,
     "metadata": {},
     "output_type": "execute_result"
    },
    {
     "data": {
      "image/png": "[encoded data removed]",
      "text/plain": [
       "<Figure size 432x288 with 1 Axes>"
      ]
     },
     "metadata": {
      "needs_background": "light"
     },
     "output_type": "display_data"
    }
   ],
   "source": [
    "#overall class distribution for the given dataset\n",
    "plt.hist(twitter_data_new[\"category\"],bins=[0,1,2,3])"
   ]
  },
  {
   "cell_type": "code",
   "execution_count": 11,
   "id": "94f1e78a",
   "metadata": {},
   "outputs": [],
   "source": [
    "#Using tfidf vectorizer for text representation (using word as analyzer)\n",
    "vec = TfidfVectorizer(ngram_range=(1,5),max_features=1000)"
   ]
  },
  {
   "cell_type": "code",
   "execution_count": 12,
   "id": "d63aaa82",
   "metadata": {},
   "outputs": [],
   "source": [
    "#using train test split to split the data into train and test data(Not validation)\n",
    "X_train_text,X_test_text,Y_train,Y_test = train_test_split(twitter_data_new[\"clean_text\"],\n",
    "                                                           twitter_data_new[\"category\"],test_size=0.2,random_state=42)"
   ]
  },
  {
   "cell_type": "code",
   "execution_count": 13,
   "id": "8da883ca",
   "metadata": {},
   "outputs": [],
   "source": [
    "#Converting text to vector\n",
    "X_train = vec.fit_transform(X_train_text)\n",
    "X_test = vec.transform(X_test_text)"
   ]
  },
  {
   "cell_type": "code",
   "execution_count": 14,
   "id": "94115c05",
   "metadata": {},
   "outputs": [
    {
     "data": {
      "text/plain": [
       "(array([28357., 44144., 57874.]),\n",
       " array([0, 1, 2, 3]),\n",
       " <BarContainer object of 3 artists>)"
      ]
     },
     "execution_count": 14,
     "metadata": {},
     "output_type": "execute_result"
    },
    {
     "data": {
      "image/png": "[encoded data removed]",
      "text/plain": [
       "<Figure size 432x288 with 1 Axes>"
      ]
     },
     "metadata": {
      "needs_background": "light"
     },
     "output_type": "display_data"
    }
   ],
   "source": [
    "#overall class distribution for the test data\n",
    "#Note: Since the classes are not highly imbalanced, Using SMOTE is not entertained\n",
    "plt.hist(Y_train,bins=[0,1,2,3])"
   ]
  },
  {
   "cell_type": "code",
   "execution_count": 15,
   "id": "b3c9a216",
   "metadata": {},
   "outputs": [
    {
     "name": "stdout",
     "output_type": "stream",
     "text": [
      "Fitting 5 folds for each of 12 candidates, totalling 60 fits\n",
      "[CV 1/5; 1/12] START booster=dart, gpu_id=0, max_depth=5, n_estimators=100......\n",
      "[CV 1/5; 1/12] END booster=dart, gpu_id=0, max_depth=5, n_estimators=100;, score=0.775 total time= 1.1min\n",
      "[CV 2/5; 1/12] START booster=dart, gpu_id=0, max_depth=5, n_estimators=100......\n",
      "[CV 2/5; 1/12] END booster=dart, gpu_id=0, max_depth=5, n_estimators=100;, score=0.780 total time= 1.2min\n",
      "[CV 3/5; 1/12] START booster=dart, gpu_id=0, max_depth=5, n_estimators=100......\n",
      "[CV 3/5; 1/12] END booster=dart, gpu_id=0, max_depth=5, n_estimators=100;, score=0.783 total time= 1.2min\n",
      "[CV 4/5; 1/12] START booster=dart, gpu_id=0, max_depth=5, n_estimators=100......\n",
      "[CV 4/5; 1/12] END booster=dart, gpu_id=0, max_depth=5, n_estimators=100;, score=0.783 total time= 1.3min\n",
      "[CV 5/5; 1/12] START booster=dart, gpu_id=0, max_depth=5, n_estimators=100......\n",
      "[CV 5/5; 1/12] END booster=dart, gpu_id=0, max_depth=5, n_estimators=100;, score=0.785 total time= 1.3min\n",
      "[CV 1/5; 2/12] START booster=dart, gpu_id=0, max_depth=5, n_estimators=200......\n",
      "[CV 1/5; 2/12] END booster=dart, gpu_id=0, max_depth=5, n_estimators=200;, score=0.777 total time= 4.1min\n",
      "[CV 2/5; 2/12] START booster=dart, gpu_id=0, max_depth=5, n_estimators=200......\n",
      "[CV 2/5; 2/12] END booster=dart, gpu_id=0, max_depth=5, n_estimators=200;, score=0.783 total time= 4.2min\n",
      "[CV 3/5; 2/12] START booster=dart, gpu_id=0, max_depth=5, n_estimators=200......\n",
      "[CV 3/5; 2/12] END booster=dart, gpu_id=0, max_depth=5, n_estimators=200;, score=0.786 total time= 4.2min\n",
      "[CV 4/5; 2/12] START booster=dart, gpu_id=0, max_depth=5, n_estimators=200......\n",
      "[CV 4/5; 2/12] END booster=dart, gpu_id=0, max_depth=5, n_estimators=200;, score=0.784 total time= 4.2min\n",
      "[CV 5/5; 2/12] START booster=dart, gpu_id=0, max_depth=5, n_estimators=200......\n",
      "[CV 5/5; 2/12] END booster=dart, gpu_id=0, max_depth=5, n_estimators=200;, score=0.788 total time= 4.5min\n",
      "[CV 1/5; 3/12] START booster=dart, gpu_id=0, max_depth=6, n_estimators=100......\n",
      "[CV 1/5; 3/12] END booster=dart, gpu_id=0, max_depth=6, n_estimators=100;, score=0.776 total time= 1.4min\n",
      "[CV 2/5; 3/12] START booster=dart, gpu_id=0, max_depth=6, n_estimators=100......\n",
      "[CV 2/5; 3/12] END booster=dart, gpu_id=0, max_depth=6, n_estimators=100;, score=0.782 total time= 1.4min\n",
      "[CV 3/5; 3/12] START booster=dart, gpu_id=0, max_depth=6, n_estimators=100......\n",
      "[CV 3/5; 3/12] END booster=dart, gpu_id=0, max_depth=6, n_estimators=100;, score=0.783 total time= 1.3min\n",
      "[CV 4/5; 3/12] START booster=dart, gpu_id=0, max_depth=6, n_estimators=100......\n",
      "[CV 4/5; 3/12] END booster=dart, gpu_id=0, max_depth=6, n_estimators=100;, score=0.785 total time= 1.4min\n",
      "[CV 5/5; 3/12] START booster=dart, gpu_id=0, max_depth=6, n_estimators=100......\n",
      "[CV 5/5; 3/12] END booster=dart, gpu_id=0, max_depth=6, n_estimators=100;, score=0.785 total time= 1.3min\n",
      "[CV 1/5; 4/12] START booster=dart, gpu_id=0, max_depth=6, n_estimators=200......\n",
      "[CV 1/5; 4/12] END booster=dart, gpu_id=0, max_depth=6, n_estimators=200;, score=0.777 total time= 4.6min\n",
      "[CV 2/5; 4/12] START booster=dart, gpu_id=0, max_depth=6, n_estimators=200......\n",
      "[CV 2/5; 4/12] END booster=dart, gpu_id=0, max_depth=6, n_estimators=200;, score=0.783 total time= 4.6min\n",
      "[CV 3/5; 4/12] START booster=dart, gpu_id=0, max_depth=6, n_estimators=200......\n",
      "[CV 3/5; 4/12] END booster=dart, gpu_id=0, max_depth=6, n_estimators=200;, score=0.785 total time= 4.6min\n",
      "[CV 4/5; 4/12] START booster=dart, gpu_id=0, max_depth=6, n_estimators=200......\n",
      "[CV 4/5; 4/12] END booster=dart, gpu_id=0, max_depth=6, n_estimators=200;, score=0.785 total time= 4.6min\n",
      "[CV 5/5; 4/12] START booster=dart, gpu_id=0, max_depth=6, n_estimators=200......\n",
      "[CV 5/5; 4/12] END booster=dart, gpu_id=0, max_depth=6, n_estimators=200;, score=0.786 total time= 5.2min\n",
      "[CV 1/5; 5/12] START booster=dart, gpu_id=0, max_depth=7, n_estimators=100......\n",
      "[CV 1/5; 5/12] END booster=dart, gpu_id=0, max_depth=7, n_estimators=100;, score=0.776 total time= 1.7min\n",
      "[CV 2/5; 5/12] START booster=dart, gpu_id=0, max_depth=7, n_estimators=100......\n",
      "[CV 2/5; 5/12] END booster=dart, gpu_id=0, max_depth=7, n_estimators=100;, score=0.782 total time= 1.7min\n",
      "[CV 3/5; 5/12] START booster=dart, gpu_id=0, max_depth=7, n_estimators=100......\n",
      "[CV 3/5; 5/12] END booster=dart, gpu_id=0, max_depth=7, n_estimators=100;, score=0.784 total time= 1.6min\n",
      "[CV 4/5; 5/12] START booster=dart, gpu_id=0, max_depth=7, n_estimators=100......\n",
      "[CV 4/5; 5/12] END booster=dart, gpu_id=0, max_depth=7, n_estimators=100;, score=0.784 total time= 1.6min\n",
      "[CV 5/5; 5/12] START booster=dart, gpu_id=0, max_depth=7, n_estimators=100......\n",
      "[CV 5/5; 5/12] END booster=dart, gpu_id=0, max_depth=7, n_estimators=100;, score=0.785 total time= 1.6min\n",
      "[CV 1/5; 6/12] START booster=dart, gpu_id=0, max_depth=7, n_estimators=200......\n",
      "[CV 1/5; 6/12] END booster=dart, gpu_id=0, max_depth=7, n_estimators=200;, score=0.777 total time= 5.8min\n",
      "[CV 2/5; 6/12] START booster=dart, gpu_id=0, max_depth=7, n_estimators=200......\n",
      "[CV 2/5; 6/12] END booster=dart, gpu_id=0, max_depth=7, n_estimators=200;, score=0.783 total time= 5.8min\n",
      "[CV 3/5; 6/12] START booster=dart, gpu_id=0, max_depth=7, n_estimators=200......\n",
      "[CV 3/5; 6/12] END booster=dart, gpu_id=0, max_depth=7, n_estimators=200;, score=0.784 total time= 5.6min\n",
      "[CV 4/5; 6/12] START booster=dart, gpu_id=0, max_depth=7, n_estimators=200......\n",
      "[CV 4/5; 6/12] END booster=dart, gpu_id=0, max_depth=7, n_estimators=200;, score=0.785 total time= 5.6min\n",
      "[CV 5/5; 6/12] START booster=dart, gpu_id=0, max_depth=7, n_estimators=200......\n",
      "[CV 5/5; 6/12] END booster=dart, gpu_id=0, max_depth=7, n_estimators=200;, score=0.786 total time= 5.6min\n",
      "[CV 1/5; 7/12] START booster=gbtree, gpu_id=0, max_depth=5, n_estimators=100....\n",
      "[CV 1/5; 7/12] END booster=gbtree, gpu_id=0, max_depth=5, n_estimators=100;, score=0.775 total time=  18.6s\n",
      "[CV 2/5; 7/12] START booster=gbtree, gpu_id=0, max_depth=5, n_estimators=100....\n",
      "[CV 2/5; 7/12] END booster=gbtree, gpu_id=0, max_depth=5, n_estimators=100;, score=0.780 total time=  18.8s\n",
      "[CV 3/5; 7/12] START booster=gbtree, gpu_id=0, max_depth=5, n_estimators=100....\n",
      "[CV 3/5; 7/12] END booster=gbtree, gpu_id=0, max_depth=5, n_estimators=100;, score=0.783 total time=  18.4s\n",
      "[CV 4/5; 7/12] START booster=gbtree, gpu_id=0, max_depth=5, n_estimators=100....\n",
      "[CV 4/5; 7/12] END booster=gbtree, gpu_id=0, max_depth=5, n_estimators=100;, score=0.783 total time=  18.0s\n",
      "[CV 5/5; 7/12] START booster=gbtree, gpu_id=0, max_depth=5, n_estimators=100....\n",
      "[CV 5/5; 7/12] END booster=gbtree, gpu_id=0, max_depth=5, n_estimators=100;, score=0.785 total time=  17.8s\n",
      "[CV 1/5; 8/12] START booster=gbtree, gpu_id=0, max_depth=5, n_estimators=200....\n",
      "[CV 1/5; 8/12] END booster=gbtree, gpu_id=0, max_depth=5, n_estimators=200;, score=0.777 total time=  35.7s\n",
      "[CV 2/5; 8/12] START booster=gbtree, gpu_id=0, max_depth=5, n_estimators=200....\n",
      "[CV 2/5; 8/12] END booster=gbtree, gpu_id=0, max_depth=5, n_estimators=200;, score=0.783 total time=  31.6s\n",
      "[CV 3/5; 8/12] START booster=gbtree, gpu_id=0, max_depth=5, n_estimators=200....\n",
      "[CV 3/5; 8/12] END booster=gbtree, gpu_id=0, max_depth=5, n_estimators=200;, score=0.786 total time=  32.0s\n",
      "[CV 4/5; 8/12] START booster=gbtree, gpu_id=0, max_depth=5, n_estimators=200....\n",
      "[CV 4/5; 8/12] END booster=gbtree, gpu_id=0, max_depth=5, n_estimators=200;, score=0.784 total time=  31.8s\n",
      "[CV 5/5; 8/12] START booster=gbtree, gpu_id=0, max_depth=5, n_estimators=200....\n",
      "[CV 5/5; 8/12] END booster=gbtree, gpu_id=0, max_depth=5, n_estimators=200;, score=0.788 total time=  31.8s\n",
      "[CV 1/5; 9/12] START booster=gbtree, gpu_id=0, max_depth=6, n_estimators=100....\n",
      "[CV 1/5; 9/12] END booster=gbtree, gpu_id=0, max_depth=6, n_estimators=100;, score=0.776 total time=  19.2s\n",
      "[CV 2/5; 9/12] START booster=gbtree, gpu_id=0, max_depth=6, n_estimators=100....\n",
      "[CV 2/5; 9/12] END booster=gbtree, gpu_id=0, max_depth=6, n_estimators=100;, score=0.782 total time=  19.1s\n",
      "[CV 3/5; 9/12] START booster=gbtree, gpu_id=0, max_depth=6, n_estimators=100....\n",
      "[CV 3/5; 9/12] END booster=gbtree, gpu_id=0, max_depth=6, n_estimators=100;, score=0.783 total time=  19.1s\n",
      "[CV 4/5; 9/12] START booster=gbtree, gpu_id=0, max_depth=6, n_estimators=100....\n"
     ]
    },
    {
     "name": "stdout",
     "output_type": "stream",
     "text": [
      "[CV 4/5; 9/12] END booster=gbtree, gpu_id=0, max_depth=6, n_estimators=100;, score=0.785 total time=  19.0s\n",
      "[CV 5/5; 9/12] START booster=gbtree, gpu_id=0, max_depth=6, n_estimators=100....\n",
      "[CV 5/5; 9/12] END booster=gbtree, gpu_id=0, max_depth=6, n_estimators=100;, score=0.785 total time=  18.9s\n",
      "[CV 1/5; 10/12] START booster=gbtree, gpu_id=0, max_depth=6, n_estimators=200...\n",
      "[CV 1/5; 10/12] END booster=gbtree, gpu_id=0, max_depth=6, n_estimators=200;, score=0.777 total time=  38.4s\n",
      "[CV 2/5; 10/12] START booster=gbtree, gpu_id=0, max_depth=6, n_estimators=200...\n",
      "[CV 2/5; 10/12] END booster=gbtree, gpu_id=0, max_depth=6, n_estimators=200;, score=0.783 total time=  38.3s\n",
      "[CV 3/5; 10/12] START booster=gbtree, gpu_id=0, max_depth=6, n_estimators=200...\n",
      "[CV 3/5; 10/12] END booster=gbtree, gpu_id=0, max_depth=6, n_estimators=200;, score=0.785 total time=  38.4s\n",
      "[CV 4/5; 10/12] START booster=gbtree, gpu_id=0, max_depth=6, n_estimators=200...\n",
      "[CV 4/5; 10/12] END booster=gbtree, gpu_id=0, max_depth=6, n_estimators=200;, score=0.785 total time=  38.0s\n",
      "[CV 5/5; 10/12] START booster=gbtree, gpu_id=0, max_depth=6, n_estimators=200...\n",
      "[CV 5/5; 10/12] END booster=gbtree, gpu_id=0, max_depth=6, n_estimators=200;, score=0.786 total time=  37.9s\n",
      "[CV 1/5; 11/12] START booster=gbtree, gpu_id=0, max_depth=7, n_estimators=100...\n",
      "[CV 1/5; 11/12] END booster=gbtree, gpu_id=0, max_depth=7, n_estimators=100;, score=0.776 total time=  22.2s\n",
      "[CV 2/5; 11/12] START booster=gbtree, gpu_id=0, max_depth=7, n_estimators=100...\n",
      "[CV 2/5; 11/12] END booster=gbtree, gpu_id=0, max_depth=7, n_estimators=100;, score=0.782 total time=  22.2s\n",
      "[CV 3/5; 11/12] START booster=gbtree, gpu_id=0, max_depth=7, n_estimators=100...\n",
      "[CV 3/5; 11/12] END booster=gbtree, gpu_id=0, max_depth=7, n_estimators=100;, score=0.784 total time=  22.4s\n",
      "[CV 4/5; 11/12] START booster=gbtree, gpu_id=0, max_depth=7, n_estimators=100...\n",
      "[CV 4/5; 11/12] END booster=gbtree, gpu_id=0, max_depth=7, n_estimators=100;, score=0.784 total time=  23.0s\n",
      "[CV 5/5; 11/12] START booster=gbtree, gpu_id=0, max_depth=7, n_estimators=100...\n",
      "[CV 5/5; 11/12] END booster=gbtree, gpu_id=0, max_depth=7, n_estimators=100;, score=0.785 total time=  22.4s\n",
      "[CV 1/5; 12/12] START booster=gbtree, gpu_id=0, max_depth=7, n_estimators=200...\n",
      "[CV 1/5; 12/12] END booster=gbtree, gpu_id=0, max_depth=7, n_estimators=200;, score=0.777 total time=  45.9s\n",
      "[CV 2/5; 12/12] START booster=gbtree, gpu_id=0, max_depth=7, n_estimators=200...\n",
      "[CV 2/5; 12/12] END booster=gbtree, gpu_id=0, max_depth=7, n_estimators=200;, score=0.783 total time=  45.0s\n",
      "[CV 3/5; 12/12] START booster=gbtree, gpu_id=0, max_depth=7, n_estimators=200...\n",
      "[CV 3/5; 12/12] END booster=gbtree, gpu_id=0, max_depth=7, n_estimators=200;, score=0.784 total time=  44.5s\n",
      "[CV 4/5; 12/12] START booster=gbtree, gpu_id=0, max_depth=7, n_estimators=200...\n",
      "[CV 4/5; 12/12] END booster=gbtree, gpu_id=0, max_depth=7, n_estimators=200;, score=0.785 total time=  44.1s\n",
      "[CV 5/5; 12/12] START booster=gbtree, gpu_id=0, max_depth=7, n_estimators=200...\n",
      "[CV 5/5; 12/12] END booster=gbtree, gpu_id=0, max_depth=7, n_estimators=200;, score=0.786 total time=  43.9s\n",
      "Time Taken: 6891.227997303009\n",
      "{'booster': 'dart', 'gpu_id': 0, 'max_depth': 5, 'n_estimators': 200}\n",
      "0.7836548418024927\n"
     ]
    }
   ],
   "source": [
    "#Hyperparameter tuning using GridSearchCV, using default 5-fold cross validation\n",
    "#parameters for XGBClassifier\n",
    "parameters = {\"booster\":('dart','gbtree'),\n",
    "              \"max_depth\":(5,6,7),\n",
    "              \"n_estimators\":(100,200),\n",
    "             \"gpu_id\":[0]}\n",
    "xgb_clf = XGBClassifier()\n",
    "\n",
    "clf = GridSearchCV(xgb_clf, parameters,scoring='accuracy',verbose=10)\n",
    "st = t.time()\n",
    "clf.fit(X_train,Y_train)\n",
    "print(\"Time Taken:\",t.time()-st)\n",
    "print(clf.best_params_)\n",
    "print(clf.best_score_)"
   ]
  },
  {
   "cell_type": "code",
   "execution_count": 16,
   "id": "8f81383a",
   "metadata": {},
   "outputs": [],
   "source": [
    "test_preds = clf.predict(X_test) #testing the model"
   ]
  },
  {
   "cell_type": "code",
   "execution_count": 17,
   "id": "b0a8ed82",
   "metadata": {},
   "outputs": [
    {
     "name": "stdout",
     "output_type": "stream",
     "text": [
      "              precision    recall  f1-score   support\n",
      "\n",
      "         0.0       0.83      0.54      0.65      7152\n",
      "         1.0       0.69      0.98      0.81     11067\n",
      "         2.0       0.90      0.76      0.82     14375\n",
      "\n",
      "    accuracy                           0.79     32594\n",
      "   macro avg       0.80      0.76      0.76     32594\n",
      "weighted avg       0.81      0.79      0.78     32594\n",
      "\n"
     ]
    }
   ],
   "source": [
    "print(classification_report(Y_test,test_preds)) #performance of the model on test data"
   ]
  },
  {
   "cell_type": "code",
   "execution_count": 18,
   "id": "bec216a8",
   "metadata": {},
   "outputs": [],
   "source": [
    "filename = 'final_model.sav'\n",
    "pickle.dump(clf, open(filename, 'wb'))"
   ]
  },
  {
   "cell_type": "code",
   "execution_count": 25,
   "id": "94603a89",
   "metadata": {},
   "outputs": [],
   "source": [
    "def test_new_text(new_text,model):\n",
    "    text = preprocessing(new_text)\n",
    "    print(text)\n",
    "    text_rep = vec.transform([text])\n",
    "    return model.predict(text_rep)-1"
   ]
  },
  {
   "cell_type": "code",
   "execution_count": 26,
   "id": "0477c0cd",
   "metadata": {},
   "outputs": [],
   "source": [
    "import pickle\n",
    "model = pickle.load(open('final_model.sav', 'rb'))"
   ]
  },
  {
   "cell_type": "code",
   "execution_count": 28,
   "id": "f12b6e2e",
   "metadata": {},
   "outputs": [
    {
     "name": "stdout",
     "output_type": "stream",
     "text": [
      "Enter the text:#movie was so great I loved it\n",
      "great loved\n"
     ]
    },
    {
     "data": {
      "text/plain": [
       "array([1], dtype=int64)"
      ]
     },
     "execution_count": 28,
     "metadata": {},
     "output_type": "execute_result"
    }
   ],
   "source": [
    "test_new_text(input(\"Enter the text:\"),model)"
   ]
  },
  {
   "cell_type": "code",
   "execution_count": null,
   "id": "82ce6879",
   "metadata": {},
   "outputs": [],
   "source": []
  }
 ],
 "metadata": {
  "kernelspec": {
   "display_name": "Python 3 (ipykernel)",
   "language": "python",
   "name": "python3"
  },
  "language_info": {
   "codemirror_mode": {
    "name": "ipython",
    "version": 3
   },
   "file_extension": ".py",
   "mimetype": "text/x-python",
   "name": "python",
   "nbconvert_exporter": "python",
   "pygments_lexer": "ipython3",
   "version": "3.9.7"
  }
 },
 "nbformat": 4,
 "nbformat_minor": 5
}
